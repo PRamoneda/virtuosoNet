{
 "cells": [
  {
   "cell_type": "code",
   "execution_count": 2,
   "id": "f80143e1-ab13-457c-b1b6-9f8cf5764b19",
   "metadata": {},
   "outputs": [],
   "source": [
    "%load_ext autoreload\n",
    "%autoreload 2\n",
    "import musicxml_parser\n",
    "import sys\n",
    "from pathlib import Path\n",
    "import torch\n",
    "sys.path.append('../virtuosoNet/')"
   ]
  },
  {
   "cell_type": "code",
   "execution_count": 3,
   "id": "bc3e39ea-3a29-491f-9bea-f9c50609895d",
   "metadata": {},
   "outputs": [],
   "source": [
    "score_file = 'Cadenza_3dChopin_v0.musicxml'\n",
    "xml_obj = musicxml_parser.MusicXMLDocument(score_file)\n",
    "from src.virtuoso.inference import get_input_from_xml"
   ]
  },
  {
   "cell_type": "code",
   "execution_count": 4,
   "id": "e7d07277-5ad8-42d8-b85f-4a4d8d2ed8ea",
   "metadata": {},
   "outputs": [],
   "source": [
    "from src.virtuoso.parser import get_parser, get_name\n",
    "from src.virtuoso import utils\n",
    "from src.virtuoso import model as modelzoo, encoder_score as encs\n",
    "from src.virtuoso import encoder_perf as encp, decoder as dec, residual_selector as res\n",
    "from src.virtuoso.utils import load_weight\n",
    "from src.virtuoso.inference import get_input_from_xml\n",
    "from src.virtuoso.dataset import ScorePerformDataset, MultiplePerformSet\n",
    "from src.virtuoso.data_process import make_slicing_indexes_by_measure, make_slice_with_same_measure_number, key_augmentation"
   ]
  },
  {
   "cell_type": "code",
   "execution_count": 5,
   "id": "2e89bdf0-8bd1-40a5-b710-65084ed3c53b",
   "metadata": {},
   "outputs": [],
   "source": [
    "import shlex\n",
    "parser = get_parser()\n",
    "args = parser.parse_args(shlex.split('--session_mode=inference --checkpoint ../virtuosoNet/han_measnote_delta/checkpoint_best.pt'))"
   ]
  },
  {
   "cell_type": "code",
   "execution_count": 6,
   "id": "5ff9c5b7-23b5-4016-bdba-3c2cde9576f9",
   "metadata": {},
   "outputs": [],
   "source": [
    "hier_type = ['is_hier', 'in_hier', 'hier_beat', 'hier_meas', 'meas_note']\n",
    "curr_type = [x for x in hier_type if getattr(args, x)]"
   ]
  },
  {
   "cell_type": "code",
   "execution_count": 7,
   "id": "67501aca-4c51-4981-b4d8-443340e64c3e",
   "metadata": {},
   "outputs": [],
   "source": [
    "from datetime import datetime\n",
    "name = get_name(parser, args)  + \"_\" + datetime.now().strftime('%y%m%d-%H%M%S')\n",
    "device='cuda'"
   ]
  },
  {
   "cell_type": "code",
   "execution_count": 8,
   "id": "b041ef0c-d23d-40de-96d7-4df99c49658d",
   "metadata": {},
   "outputs": [],
   "source": [
    "net_param = torch.load(args.checkpoint, map_location='cpu')['network_params']\n",
    "args.yml_path = list(Path(args.checkpoint).parent.rglob('*.yml'))[0]\n",
    "config = utils.read_model_setting(args.yml_path)\n",
    "args.graph_keys = net_param.graph_keys\n",
    "criterion = utils.make_criterion_func(config.train_params.loss_type, device)"
   ]
  },
  {
   "cell_type": "code",
   "execution_count": 9,
   "id": "23e22fce-7248-476c-97d1-e44e1e957b70",
   "metadata": {},
   "outputs": [],
   "source": [
    "model = modelzoo.VirtuosoNet()\n",
    "model.score_encoder = getattr(encs, net_param.score_encoder_name)(net_param)\n",
    "model.performance_encoder = getattr(encp, net_param.performance_encoder_name)(net_param)\n",
    "model.residual_info_selector = getattr(res, net_param.residual_info_selector_name)()\n",
    "model.performance_decoder = getattr(dec, net_param.performance_decoder_name)(net_param)\n",
    "model.network_params = net_param\n",
    "model = model.to(device)"
   ]
  },
  {
   "cell_type": "code",
   "execution_count": 10,
   "id": "3eb44d7d-33cf-4637-b2bc-db31ce0f6ba9",
   "metadata": {},
   "outputs": [
    {
     "name": "stdout",
     "output_type": "stream",
     "text": [
      "=> loaded checkpoint '../virtuosoNet/han_measnote_delta/checkpoint_best.pt' (epoch 7)\n"
     ]
    }
   ],
   "source": [
    "model = load_weight(model, args.checkpoint)"
   ]
  },
  {
   "cell_type": "code",
   "execution_count": 11,
   "id": "283edbae-442f-4c22-a9a9-bad1bae6161d",
   "metadata": {},
   "outputs": [],
   "source": [
    "ckp = torch.load(args.checkpoint, map_location='cpu')\n",
    "stats = ckp['stats']"
   ]
  },
  {
   "cell_type": "code",
   "execution_count": 12,
   "id": "37caf8b8-dcb1-4b29-b5f8-5b68c7d0b73e",
   "metadata": {
    "tags": []
   },
   "outputs": [],
   "source": [
    "score, input_x, edges, note_locations = get_input_from_xml(score_file, 'Chopin', None, stats['input_keys'], model.stats['graph_keys'], model.stats['stats'], device)"
   ]
  },
  {
   "cell_type": "code",
   "execution_count": 13,
   "id": "fe3ed677-bbbe-4892-86dc-d245a5a24081",
   "metadata": {},
   "outputs": [],
   "source": [
    "xml_obj = musicxml_parser.MusicXMLDocument(score_file)"
   ]
  },
  {
   "cell_type": "code",
   "execution_count": 33,
   "id": "df304a48-d994-42ea-907b-120160fe4806",
   "metadata": {
    "tags": []
   },
   "outputs": [],
   "source": [
    "import random\n",
    "import copy\n",
    "def modifier(xml_obj, p_add=0.15, p_shift=0.1, p_del = 0.1, modifier=1):\n",
    "    xml_new = copy.deepcopy(xml_obj)\n",
    "    \n",
    "    weights = [el*modifier for el in [p_add, p_shift, p_del]]\n",
    "    weights.append(1 - sum(weights))\n",
    "    n_add = 0\n",
    "    for part in xml_new.parts:\n",
    "        for n, measure in enumerate(part.measures):\n",
    "            add_notes = []\n",
    "            for note in measure.notes:\n",
    "                if not note.is_rest:\n",
    "                    action = random.choices(['add', 'shift', 'del', 'pass'], weights=weights)[0]\n",
    "                    if action == 'add':\n",
    "                        n_add += 1\n",
    "                        add_notes.extend(note_add(note))\n",
    "                    elif action == 'shift':\n",
    "                        pitch_min = max(21, note.pitch[1] - 24)\n",
    "                        pitch_max = min(108, note.pitch[1] + 24)\n",
    "                        pitches = list(range(pitch_min, note.pitch[1])) + list(range(note.pitch[1]+1, pitch_max))\n",
    "                        selected_pitch = random.sample(pitches, 1)[0]\n",
    "                        note.pitch = (note.pitch[0], selected_pitch)\n",
    "                    elif action == 'del':\n",
    "                        note.is_rest = True\n",
    "                    else:\n",
    "                        pass\n",
    "            measure.notes.extend(add_notes)\n",
    "    print(n_add)\n",
    "    return xml_new\n",
    "                    \n",
    "\n",
    "def note_add(note):\n",
    "    add_notes = []\n",
    "    n_notes = random.choices(range(1,6), weights=reversed(range(5)))[0]\n",
    "    pitch_min = max(21, note.pitch[1] - 24)\n",
    "    pitch_max = min(108, note.pitch[1] + 24)\n",
    "    pitches = list(range(pitch_min, note.pitch[1])) + list(range(note.pitch[1]+1, pitch_max))\n",
    "    selected_pitch = random.sample(pitches, n_notes)\n",
    "    for pitch in selected_pitch:\n",
    "        note_new = copy.deepcopy(note)\n",
    "        note_new.pitch = (note.pitch[0], pitch)\n",
    "        add_notes.append(note_new)\n",
    "    return add_notes\n",
    "    "
   ]
  },
  {
   "cell_type": "code",
   "execution_count": 32,
   "id": "bc6b3b3d-9882-4537-99d8-c366310a404d",
   "metadata": {},
   "outputs": [],
   "source": [
    "import shlex\n",
    "parser = get_parser()\n",
    "args = parser.parse_args(shlex.split('--session_mode=inference --checkpoint ../virtuosoNet/han_measnote_delta/checkpoint_best.pt'))"
   ]
  },
  {
   "cell_type": "code",
   "execution_count": 16,
   "id": "e908d33d-1253-49a5-9170-fa895a6db341",
   "metadata": {},
   "outputs": [],
   "source": [
    "hier_type = ['is_hier', 'in_hier', 'hier_beat', 'hier_meas', 'meas_note']\n",
    "curr_type = [x for x in hier_type if getattr(args, x)]"
   ]
  },
  {
   "cell_type": "code",
   "execution_count": 17,
   "id": "4693cea2-ddab-4003-99d7-6aaeb3ad1b2c",
   "metadata": {},
   "outputs": [],
   "source": [
    "from datetime import datetime\n",
    "name = get_name(parser, args)  + \"_\" + datetime.now().strftime('%y%m%d-%H%M%S')\n",
    "device='cuda'"
   ]
  },
  {
   "cell_type": "code",
   "execution_count": 18,
   "id": "b33b4762-11de-40c8-88d9-e22889f2911d",
   "metadata": {},
   "outputs": [],
   "source": [
    "net_param = torch.load(args.checkpoint, map_location='cpu')['network_params']\n",
    "args.yml_path = list(Path(args.checkpoint).parent.rglob('*.yml'))[0]\n",
    "config = utils.read_model_setting(args.yml_path)\n",
    "args.graph_keys = net_param.graph_keys\n",
    "criterion = utils.make_criterion_func(config.train_params.loss_type, device)"
   ]
  },
  {
   "cell_type": "code",
   "execution_count": 19,
   "id": "1bbb2073-26ce-4f2b-bb3b-ef5b40077adf",
   "metadata": {},
   "outputs": [],
   "source": [
    "model = modelzoo.VirtuosoNet()\n",
    "model.score_encoder = getattr(encs, net_param.score_encoder_name)(net_param)\n",
    "model.performance_encoder = getattr(encp, net_param.performance_encoder_name)(net_param)\n",
    "model.residual_info_selector = getattr(res, net_param.residual_info_selector_name)()\n",
    "model.performance_decoder = getattr(dec, net_param.performance_decoder_name)(net_param)\n",
    "model.network_params = net_param\n",
    "model = model.to(device)"
   ]
  },
  {
   "cell_type": "code",
   "execution_count": 20,
   "id": "015509f2-0cca-455b-9aa9-c0e998dc33a1",
   "metadata": {},
   "outputs": [
    {
     "name": "stdout",
     "output_type": "stream",
     "text": [
      "=> loaded checkpoint '../virtuosoNet/han_measnote_delta/checkpoint_best.pt' (epoch 7)\n"
     ]
    }
   ],
   "source": [
    "model = load_weight(model, args.checkpoint)"
   ]
  },
  {
   "cell_type": "code",
   "execution_count": null,
   "id": "d0c85ee3-9246-4bf3-9046-69bea6ad83f5",
   "metadata": {},
   "outputs": [],
   "source": []
  },
  {
   "cell_type": "code",
   "execution_count": 21,
   "id": "499328d2-0c74-4a45-b504-8a19ae2e588c",
   "metadata": {},
   "outputs": [],
   "source": [
    "import pickle\n",
    "import matplotlib.pyplot as plt\n",
    "with open('/data/project/pid/notebooks/emotion/emotion_z.dat', 'rb') as f:\n",
    "    train_z = pickle.load(f)"
   ]
  },
  {
   "cell_type": "code",
   "execution_count": 22,
   "id": "6a2b89bd-38ac-4dd8-bab3-01b84231226e",
   "metadata": {},
   "outputs": [],
   "source": [
    "candidate=[('Clementi.sonatine_op36_no1_mov3.mm_1-end.', 's005', 'E3'), \n",
    "           # ('Clementi.sonatine_op36_no1_mov3.mm_1-end.', 's019', 'E3'), \n",
    "           ('Bach.prelude-and-fugue_bwv870_no1_prelude.mm_1-19.s007', 's007', 'E2'),\n",
    "           # ('Liszt.consolation_s172_no3_.mm_1-45', 's007', 'E2'),\n",
    "           ('Clementi.sonatine_op36_no1_mov3.mm_1-34.', 's001', 'E5'), \n",
    "           # ('Mendelssohn.variations', 's019', 'E1'), \n",
    "           ('Chopin.valse-brillante_op34_no2_.mm_1-36', 's008', 'E5'),\n",
    "          ]\n",
    "\n",
    "n_candi = len(candidate)"
   ]
  },
  {
   "cell_type": "code",
   "execution_count": 23,
   "id": "d11cd3f6-8c2f-4507-85cc-c597bcf49e14",
   "metadata": {},
   "outputs": [],
   "source": [
    "labels = [[] for _ in range(n_candi)]\n",
    "selected_z = [[] for _ in range(n_candi)]\n",
    "for _, (k, v) in enumerate(train_z.items()):\n",
    "    pieces, mu, var = zip(*v)\n",
    "    for n, piece in enumerate(pieces):\n",
    "        if any([(el[0] in piece and el[1] in piece and str(k) == el[2]) for el in candidate]):\n",
    "            for idx, info in enumerate(candidate):\n",
    "                if info[0] in piece and info[1] in piece and str(k) == info[2]:\n",
    "                    labels[idx] = '.'.join(info)\n",
    "                    selected_z[idx] = mu[n]\n"
   ]
  },
  {
   "cell_type": "code",
   "execution_count": 34,
   "id": "0e6d669b-37ad-4e9f-a802-c82bcd4611bb",
   "metadata": {
    "tags": []
   },
   "outputs": [
    {
     "name": "stdout",
     "output_type": "stream",
     "text": [
      "645\n",
      "695\n",
      "659\n",
      "703\n",
      "687\n",
      "652\n",
      "659\n",
      "697\n",
      "677\n",
      "686\n"
     ]
    }
   ],
   "source": [
    "import numpy as np\n",
    "from src.virtuoso.inference import scale_model_prediction_to_original, model_prediction_to_feature\n",
    "from src.virtuoso.model_utils import reparameterize\n",
    "from src.virtuoso.inference import save_model_output_as_midi\n",
    "xml_obj = musicxml_parser.MusicXMLDocument(score_file)\n",
    "for k in range(10):\n",
    "    xml_modified = modifier(xml_obj, modifier=3)\n",
    "    score, input_x, edges, note_locations = get_input_from_xml(xml_modified, 'Chopin', None, stats['input_keys'], model.stats['graph_keys'], model.stats['stats'], device)\n",
    "    save_folder = 'test_210716/'\n",
    "    Path(save_folder).mkdir(exist_ok=True)\n",
    "    for n, info in enumerate(zip(labels, selected_z)):\n",
    "        for l in range(1):\n",
    "            piece = info[1]\n",
    "            mu = info[1]\n",
    "            z = reparameterize(mu, torch.ones_like(mu)*0.25)\n",
    "            # np.save(Path(save_folder + f'{score_file.name}_{n}_{l}.npy'), z.cpu().numpy())\n",
    "            with torch.no_grad():\n",
    "                outputs, perform_mu, perform_var, total_out_list = model(input_x, None, edges, note_locations, initial_z=z)\n",
    "\n",
    "            save_path = Path(save_folder + f'randomize_{k}_{n}_{l}.mid')\n",
    "            save_model_output_as_midi(outputs, save_path, score, model.stats['output_keys'], model.stats['stats'], note_locations, bool_pedal=args.boolPedal, disklavier=args.disklavier)\n"
   ]
  },
  {
   "cell_type": "code",
   "execution_count": 75,
   "id": "56cb128e-ad0c-4abc-8b03-1e0bc57c0467",
   "metadata": {
    "tags": []
   },
   "outputs": [
    {
     "name": "stdout",
     "output_type": "stream",
     "text": [
      "['pass']\n"
     ]
    }
   ],
   "source": [
    "p_add = 0.15\n",
    "p_shift = 0.1\n",
    "p_del = 0.1\n",
    "modifier = 1\n",
    "\n",
    "weights = [p_add, p_shift, p_del] * modifier\n",
    "weights.append(1 - sum(weights))\n",
    "action = random.choices(['add', 'shift', 'del', 'pass'], weights=weights)\n",
    "print(action)"
   ]
  },
  {
   "cell_type": "code",
   "execution_count": null,
   "id": "da83d9e1-bd0f-4070-9e1e-6618a2a9d883",
   "metadata": {},
   "outputs": [],
   "source": []
  }
 ],
 "metadata": {
  "kernelspec": {
   "display_name": "Python 3 (ipykernel)",
   "language": "python",
   "name": "python3"
  },
  "language_info": {
   "codemirror_mode": {
    "name": "ipython",
    "version": 3
   },
   "file_extension": ".py",
   "mimetype": "text/x-python",
   "name": "python",
   "nbconvert_exporter": "python",
   "pygments_lexer": "ipython3",
   "version": "3.8.10"
  }
 },
 "nbformat": 4,
 "nbformat_minor": 5
}
