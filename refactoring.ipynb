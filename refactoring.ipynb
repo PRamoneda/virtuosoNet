{
 "cells": [
  {
   "cell_type": "code",
   "execution_count": 1,
   "metadata": {},
   "outputs": [],
   "source": [
    "import torch\n",
    "from virtuoso import model as modelzoo\n",
    "from virtuoso import model_parameters as param\n",
    "from omegaconf import OmegaConf\n",
    "import _pickle as pickle\n",
    "import sys\n",
    "import yaml\n",
    "from virtuoso import parser\n",
    "\n",
    "sys.modules['model_parameters'] = param\n"
   ]
  },
  {
   "cell_type": "code",
   "execution_count": 4,
   "metadata": {},
   "outputs": [
    {
     "data": {
      "text/plain": [
       "ArgumentParser(prog='virtuosonet', usage=None, description=None, formatter_class=<class 'argparse.HelpFormatter'>, conflict_handler='error', add_help=True)"
      ]
     },
     "execution_count": 4,
     "metadata": {},
     "output_type": "execute_result"
    }
   ],
   "source": [
    "args = parser.get_parser()\n",
    "args"
   ]
  },
  {
   "cell_type": "code",
   "execution_count": 3,
   "metadata": {},
   "outputs": [
    {
     "data": {
      "text/plain": [
       "ArgumentParser(prog='virtuosonet', usage=None, description=None, formatter_class=<class 'argparse.HelpFormatter'>, conflict_handler='error', add_help=True)"
      ]
     },
     "execution_count": 3,
     "metadata": {},
     "output_type": "execute_result"
    }
   ],
   "source": []
  },
  {
   "cell_type": "code",
   "execution_count": 15,
   "metadata": {},
   "outputs": [],
   "source": [
    "conf = OmegaConf.create(dict)\n",
    "with open('isgn_param.yml', 'w') as f:\n",
    "    yaml.dump(dict, f, default_flow_style=False)"
   ]
  },
  {
   "cell_type": "code",
   "execution_count": 79,
   "metadata": {},
   "outputs": [
    {
     "data": {
      "text/plain": [
       "ISGN(\n",
       "  (note_fc): Sequential(\n",
       "    (0): Linear(in_features=78, out_features=128, bias=True)\n",
       "    (1): Dropout(p=0.1, inplace=False)\n",
       "    (2): ReLU()\n",
       "    (3): Linear(in_features=128, out_features=128, bias=True)\n",
       "    (4): Dropout(p=0.1, inplace=False)\n",
       "    (5): ReLU()\n",
       "    (6): Linear(in_features=128, out_features=128, bias=True)\n",
       "    (7): Dropout(p=0.1, inplace=False)\n",
       "    (8): ReLU()\n",
       "  )\n",
       "  (graph_1st): GatedGraph(\n",
       "    (sigmoid): Sigmoid()\n",
       "    (tanh): Tanh()\n",
       "  )\n",
       "  (graph_between): Sequential(\n",
       "    (0): Linear(in_features=256, out_features=256, bias=True)\n",
       "    (1): Dropout(p=0.1, inplace=False)\n",
       "    (2): ReLU()\n",
       "  )\n",
       "  (graph_2nd): GatedGraph(\n",
       "    (sigmoid): Sigmoid()\n",
       "    (tanh): Tanh()\n",
       "  )\n",
       "  (measure_attention): ContextAttention(\n",
       "    (attention_net): Linear(in_features=256, out_features=256, bias=True)\n",
       "  )\n",
       "  (measure_rnn): LSTM(256, 64, num_layers=2, batch_first=True, bidirectional=True)\n",
       "  (performance_contractor): Sequential(\n",
       "    (0): Linear(in_features=523, out_features=64, bias=True)\n",
       "    (1): Dropout(p=0.1, inplace=False)\n",
       "    (2): ReLU()\n",
       "    (3): Linear(in_features=64, out_features=64, bias=True)\n",
       "    (4): Dropout(p=0.1, inplace=False)\n",
       "    (5): ReLU()\n",
       "  )\n",
       "  (performance_graph_encoder): GatedGraph(\n",
       "    (sigmoid): Sigmoid()\n",
       "    (tanh): Tanh()\n",
       "  )\n",
       "  (performance_measure_attention): ContextAttention(\n",
       "    (attention_net): Linear(in_features=64, out_features=64, bias=True)\n",
       "  )\n",
       "  (performance_encoder): LSTM(64, 64, num_layers=2, batch_first=True, bidirectional=True)\n",
       "  (performance_final_attention): ContextAttention(\n",
       "    (attention_net): Linear(in_features=128, out_features=128, bias=True)\n",
       "  )\n",
       "  (performance_encoder_mean): Linear(in_features=128, out_features=16, bias=True)\n",
       "  (performance_encoder_var): Linear(in_features=128, out_features=16, bias=True)\n",
       "  (beat_tempo_contractor): Sequential(\n",
       "    (0): Linear(in_features=619, out_features=32, bias=True)\n",
       "    (1): Dropout(p=0.1, inplace=False)\n",
       "    (2): ReLU()\n",
       "  )\n",
       "  (style_vector_expandor): Sequential(\n",
       "    (0): Linear(in_features=16, out_features=64, bias=True)\n",
       "    (1): Dropout(p=0.1, inplace=False)\n",
       "    (2): ReLU()\n",
       "  )\n",
       "  (perform_style_to_measure): LSTM(192, 64)\n",
       "  (initial_result_fc): Sequential(\n",
       "    (0): Linear(in_features=512, out_features=64, bias=True)\n",
       "    (1): Dropout(p=0.1, inplace=False)\n",
       "    (2): ReLU()\n",
       "    (3): Linear(in_features=64, out_features=11, bias=True)\n",
       "    (4): ReLU()\n",
       "  )\n",
       "  (final_graph): GatedGraph(\n",
       "    (sigmoid): Sigmoid()\n",
       "    (tanh): Tanh()\n",
       "  )\n",
       "  (tempo_rnn): LSTM(51, 32, num_layers=2, batch_first=True, bidirectional=True)\n",
       "  (final_beat_attention): ContextAttention(\n",
       "    (attention_net): Linear(in_features=11, out_features=11, bias=True)\n",
       "  )\n",
       "  (final_margin_attention): ContextAttention(\n",
       "    (attention_net): Linear(in_features=32, out_features=32, bias=True)\n",
       "  )\n",
       "  (tempo_fc): Linear(in_features=64, out_features=1, bias=True)\n",
       "  (fc): Sequential(\n",
       "    (0): Linear(in_features=683, out_features=32, bias=True)\n",
       "    (1): Dropout(p=0.1, inplace=False)\n",
       "    (2): ReLU()\n",
       "    (3): Linear(in_features=32, out_features=10, bias=True)\n",
       "  )\n",
       "  (softmax): Softmax(dim=0)\n",
       "  (sigmoid): Sigmoid()\n",
       "  (tanh): Tanh()\n",
       ")"
      ]
     },
     "execution_count": 79,
     "metadata": {},
     "output_type": "execute_result"
    }
   ],
   "source": [
    "model = modelzoo.ISGN(conf, 'cpu')\n",
    "model"
   ]
  },
  {
   "cell_type": "code",
   "execution_count": 74,
   "metadata": {},
   "outputs": [],
   "source": [
    "with open('isgn_param.yml', 'r') as f:\n",
    "    yaml_obj = yaml.load(f, Loader=yaml.FullLoader)"
   ]
  },
  {
   "cell_type": "code",
   "execution_count": 77,
   "metadata": {},
   "outputs": [
    {
     "data": {
      "text/plain": [
       "{'beat': {'input': 0, 'layer': 1, 'margin': 0, 'size': 0}, 'encoded_vector_size': 16, 'encoder': {'input': 523, 'layer': 2, 'margin': 0, 'size': 64}, 'final': {'input': 512, 'layer': 1, 'margin': 32, 'size': 0}, 'graph_iteration': 4, 'hierarchy_level': None, 'input_size': 78, 'is_baseline': False, 'is_graph': False, 'is_simplified': False, 'is_teacher_force': False, 'is_test_version': False, 'margin': {'input': 0, 'layer': 1, 'margin': 0, 'size': 0}, 'measure': {'input': 0, 'layer': 2, 'margin': 0, 'size': 64}, 'note': {'input': 0, 'layer': 2, 'margin': 0, 'size': 128}, 'num_attention_head': 8, 'num_edge_types': 10, 'onset': {'input': 0, 'layer': 1, 'margin': 0, 'size': 0}, 'output_size': 11, 'section': {'input': 0, 'layer': 1, 'margin': 0, 'size': 0}, 'sequence_iteration': 3, 'sum': {'input': 0, 'layer': 1, 'margin': 0, 'size': 0}, 'time_reg': {'input': 0, 'layer': 2, 'margin': 0, 'size': 32}, 'training_args': {'boolPedal': False, 'composer': 'Beethoven', 'dataName': 'pedal_refresh', 'deltaLoss': False, 'device': 0, 'disklavier': True, 'hierCode': 'han_measure', 'intermediateLoss': True, 'latent': 0, 'modelCode': 'isgn_16_64', 'perfName': 'Anger_sub1', 'randomTrain': True, 'resume': '_best.pth.tar', 'resumeTraining': False, 'sessMode': 'train', 'slurEdge': False, 'startTempo': 0, 'testPath': './test_pieces/bps_5_1/', 'trainTrill': False, 'trainingLoss': 'MSE', 'trillCode': 'trill_default', 'velocity': '50,65', 'voiceEdge': True}, 'voice': {'input': 0, 'layer': 1, 'margin': 0, 'size': 0}}"
      ]
     },
     "execution_count": 77,
     "metadata": {},
     "output_type": "execute_result"
    }
   ],
   "source": [
    "conf"
   ]
  },
  {
   "cell_type": "code",
   "execution_count": 6,
   "metadata": {},
   "outputs": [],
   "source": [
    "with open(\"isgn_param.dat\", 'rb') as f:\n",
    "    param = pickle.load(f)\n",
    "with open(\"prime_isgn_best.pth.tar\", 'rb') as f:\n",
    "    weights = torch.load(f)"
   ]
  },
  {
   "cell_type": "raw",
   "metadata": {},
   "source": [
    "conf\n"
   ]
  },
  {
   "cell_type": "code",
   "execution_count": 13,
   "metadata": {},
   "outputs": [
    {
     "data": {
      "text/plain": [
       "{'nn_params': {'note': {'size': 128, 'layer': 2, 'input': 0, 'margin': 0},\n",
       "  'onset': {'size': 0, 'layer': 1, 'input': 0, 'margin': 0},\n",
       "  'beat': {'size': 0, 'layer': 1, 'input': 0, 'margin': 0},\n",
       "  'measure': {'size': 64, 'layer': 2, 'input': 0, 'margin': 0},\n",
       "  'section': {'size': 0, 'layer': 1, 'input': 0, 'margin': 0},\n",
       "  'final': {'size': 0, 'layer': 1, 'input': 512, 'margin': 32},\n",
       "  'voice': {'size': 0, 'layer': 1, 'input': 0, 'margin': 0},\n",
       "  'sum': {'size': 0, 'layer': 1, 'input': 0, 'margin': 0},\n",
       "  'encoder': {'size': 64, 'layer': 2, 'input': 523, 'margin': 0},\n",
       "  'time_reg': {'size': 32, 'layer': 2, 'input': 0, 'margin': 0},\n",
       "  'margin': {'size': 0, 'layer': 1, 'input': 0, 'margin': 0},\n",
       "  'input_size': 78,\n",
       "  'output_size': 11,\n",
       "  'encoded_vector_size': 16,\n",
       "  'graph_iteration': 4,\n",
       "  'sequence_iteration': 3,\n",
       "  'num_edge_types': 10,\n",
       "  'num_attention_head': 8,\n",
       "  'is_graph': False,\n",
       "  'is_teacher_force': False,\n",
       "  'is_baseline': False,\n",
       "  'hierarchy_level': None,\n",
       "  'is_simplified': False,\n",
       "  'is_test_version': False},\n",
       " 'training_params': {'training_args': {'sessMode': 'train',\n",
       "   'testPath': './test_pieces/bps_5_1/',\n",
       "   'dataName': 'pedal_refresh',\n",
       "   'resume': '_best.pth.tar',\n",
       "   'startTempo': 0,\n",
       "   'trainTrill': False,\n",
       "   'slurEdge': False,\n",
       "   'voiceEdge': True,\n",
       "   'velocity': '50,65',\n",
       "   'device': 0,\n",
       "   'modelCode': 'isgn_16_64',\n",
       "   'trillCode': 'trill_default',\n",
       "   'composer': 'Beethoven',\n",
       "   'latent': 0,\n",
       "   'boolPedal': False,\n",
       "   'trainingLoss': 'MSE',\n",
       "   'resumeTraining': False,\n",
       "   'perfName': 'Anger_sub1',\n",
       "   'deltaLoss': False,\n",
       "   'hierCode': 'han_measure',\n",
       "   'intermediateLoss': True,\n",
       "   'randomTrain': True,\n",
       "   'disklavier': True}}}"
      ]
     },
     "execution_count": 13,
     "metadata": {},
     "output_type": "execute_result"
    }
   ],
   "source": [
    "dict = {'nn_params': {}, 'training_params':{}}\n",
    "for key in vars(param):\n",
    "    if isinstance(getattr(param,key), param.Param):\n",
    "        dict['nn_params'][key] = {}\n",
    "        for subkey in vars(getattr(param, key)):\n",
    "            dict['nn_params'][key][subkey] = getattr(getattr(param, key), subkey)\n",
    "    elif key == 'training_args':\n",
    "        dict['training_params'][key] = {}\n",
    "        for subkey in vars(param.training_args):\n",
    "            dict['training_params'][key][subkey] = getattr(param.training_args, subkey)\n",
    "    else:\n",
    "        dict['nn_params'][key] = getattr(param, key)\n",
    "\n",
    "dict\n"
   ]
  },
  {
   "cell_type": "code",
   "execution_count": 44,
   "metadata": {},
   "outputs": [
    {
     "data": {
      "text/plain": [
       "False"
      ]
     },
     "execution_count": 44,
     "metadata": {},
     "output_type": "execute_result"
    }
   ],
   "source": [
    "test = dict['training_args']\n",
    "for "
   ]
  },
  {
   "cell_type": "code",
   "execution_count": null,
   "metadata": {},
   "outputs": [],
   "source": [
    "\n",
    "\n",
    "if 'isgn' in args.modelCode:\n",
    "    MODEL = modelzoo.ISGN(NET_PARAM, device).to(device)\n",
    "elif 'han' in args.modelCode:\n",
    "    if 'ar' in args.modelCode:\n",
    "        step_by_step = True\n",
    "    else:\n",
    "        step_by_step = False\n",
    "    MODEL = modelzoo.HAN_Integrated(NET_PARAM, device, step_by_step).to(device)\n",
    "elif 'trill' in args.modelCode:\n",
    "    MODEL = modelzoo.TrillRNN(NET_PARAM, device).to(device)\n",
    "else:\n",
    "    print('Error: Unclassified model code')\n",
    "    # Model = modelzoo.HAN_VAE(NET_PARAM, device, False).to(device)"
   ]
  }
 ],
 "metadata": {
  "kernelspec": {
   "display_name": "Python 3",
   "language": "python",
   "name": "python3"
  },
  "language_info": {
   "codemirror_mode": {
    "name": "ipython",
    "version": 3
   },
   "file_extension": ".py",
   "mimetype": "text/x-python",
   "name": "python",
   "nbconvert_exporter": "python",
   "pygments_lexer": "ipython3",
   "version": "3.6.9"
  }
 },
 "nbformat": 4,
 "nbformat_minor": 4
}
