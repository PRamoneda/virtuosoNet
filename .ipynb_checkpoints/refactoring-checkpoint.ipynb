{
 "cells": [
  {
   "cell_type": "code",
   "execution_count": 55,
   "metadata": {},
   "outputs": [],
   "source": [
    "import torch\n",
    "from virtuoso import model as modelzoo\n",
    "from virtuoso import model_parameters as param\n",
    "from omegaconf import OmegaConf\n",
    "import _pickle as pickle\n",
    "import sys\n",
    "import yaml\n",
    "\n",
    "\n",
    "sys.modules['model_parameters'] = param\n"
   ]
  },
  {
   "cell_type": "code",
   "execution_count": 65,
   "metadata": {},
   "outputs": [],
   "source": [
    "conf = OmegaConf.create(dict)\n",
    "\n",
    "with open('isgn_param.yml', 'w') as f:\n",
    "    yaml.dump(dict, f)"
   ]
  },
  {
   "cell_type": "code",
   "execution_count": 61,
   "metadata": {},
   "outputs": [
    {
     "name": "stderr",
     "output_type": "stream",
     "text": [
      "/usr/local/lib/python3.6/dist-packages/ipykernel_launcher.py:2: YAMLLoadWarning: calling yaml.load() without Loader=... is deprecated, as the default Loader is unsafe. Please read https://msg.pyyaml.org/load for full details.\n",
      "  \n"
     ]
    }
   ],
   "source": [
    "with open('isgn_param.yml', 'r') as f:\n",
    "    yaml_obj = yaml.load(f)"
   ]
  },
  {
   "cell_type": "code",
   "execution_count": 63,
   "metadata": {},
   "outputs": [],
   "source": []
  },
  {
   "cell_type": "code",
   "execution_count": 21,
   "metadata": {},
   "outputs": [],
   "source": [
    "with open(\"isgn_param.dat\", 'rb') as f:\n",
    "    param = pickle.load(f)\n",
    "with open(\"prime_isgn_best.pth.tar\", 'rb') as f:\n",
    "    weights = torch.load(f)"
   ]
  },
  {
   "cell_type": "raw",
   "metadata": {},
   "source": [
    "conf\n"
   ]
  },
  {
   "cell_type": "code",
   "execution_count": 52,
   "metadata": {},
   "outputs": [
    {
     "data": {
      "text/plain": [
       "{'note': {'size': 128, 'layer': 2, 'input': 0, 'margin': 0},\n",
       " 'onset': {'size': 0, 'layer': 1, 'input': 0, 'margin': 0},\n",
       " 'beat': {'size': 0, 'layer': 1, 'input': 0, 'margin': 0},\n",
       " 'measure': {'size': 64, 'layer': 2, 'input': 0, 'margin': 0},\n",
       " 'section': {'size': 0, 'layer': 1, 'input': 0, 'margin': 0},\n",
       " 'final': {'size': 0, 'layer': 1, 'input': 512, 'margin': 32},\n",
       " 'voice': {'size': 0, 'layer': 1, 'input': 0, 'margin': 0},\n",
       " 'sum': {'size': 0, 'layer': 1, 'input': 0, 'margin': 0},\n",
       " 'encoder': {'size': 64, 'layer': 2, 'input': 523, 'margin': 0},\n",
       " 'time_reg': {'size': 32, 'layer': 2, 'input': 0, 'margin': 0},\n",
       " 'margin': {'size': 0, 'layer': 1, 'input': 0, 'margin': 0},\n",
       " 'input_size': 78,\n",
       " 'output_size': 11,\n",
       " 'encoded_vector_size': 16,\n",
       " 'graph_iteration': 4,\n",
       " 'sequence_iteration': 3,\n",
       " 'num_edge_types': 10,\n",
       " 'num_attention_head': 8,\n",
       " 'is_graph': False,\n",
       " 'is_teacher_force': False,\n",
       " 'is_baseline': False,\n",
       " 'hierarchy_level': None,\n",
       " 'is_simplified': False,\n",
       " 'is_test_version': False,\n",
       " 'training_args': {'sessMode': 'train',\n",
       "  'testPath': './test_pieces/bps_5_1/',\n",
       "  'dataName': 'pedal_refresh',\n",
       "  'resume': '_best.pth.tar',\n",
       "  'startTempo': 0,\n",
       "  'trainTrill': False,\n",
       "  'slurEdge': False,\n",
       "  'voiceEdge': True,\n",
       "  'velocity': '50,65',\n",
       "  'device': 0,\n",
       "  'modelCode': 'isgn_16_64',\n",
       "  'trillCode': 'trill_default',\n",
       "  'composer': 'Beethoven',\n",
       "  'latent': 0,\n",
       "  'boolPedal': False,\n",
       "  'trainingLoss': 'MSE',\n",
       "  'resumeTraining': False,\n",
       "  'perfName': 'Anger_sub1',\n",
       "  'deltaLoss': False,\n",
       "  'hierCode': 'han_measure',\n",
       "  'intermediateLoss': True,\n",
       "  'randomTrain': True,\n",
       "  'disklavier': True}}"
      ]
     },
     "execution_count": 52,
     "metadata": {},
     "output_type": "execute_result"
    }
   ],
   "source": [
    "dict = {}\n",
    "for key in vars(param):\n",
    "    if isinstance(getattr(param,key), param.Param):\n",
    "        dict[key] = {}\n",
    "        for subkey in vars(getattr(param, key)):\n",
    "            dict[key][subkey] = getattr(getattr(param, key), subkey)\n",
    "    elif key == 'training_args':\n",
    "        dict[key] = {}\n",
    "        for subkey in vars(param.training_args):\n",
    "            dict[key][subkey] = getattr(param.training_args, subkey)\n",
    "    else:\n",
    "        dict[key] = getattr(param, key)\n",
    "\n",
    "dict\n"
   ]
  },
  {
   "cell_type": "code",
   "execution_count": 44,
   "metadata": {},
   "outputs": [
    {
     "data": {
      "text/plain": [
       "False"
      ]
     },
     "execution_count": 44,
     "metadata": {},
     "output_type": "execute_result"
    }
   ],
   "source": [
    "test = dict['training_args']\n",
    "for "
   ]
  },
  {
   "cell_type": "code",
   "execution_count": null,
   "metadata": {},
   "outputs": [],
   "source": [
    "\n",
    "\n",
    "if 'isgn' in args.modelCode:\n",
    "    MODEL = modelzoo.ISGN(NET_PARAM, device).to(device)\n",
    "elif 'han' in args.modelCode:\n",
    "    if 'ar' in args.modelCode:\n",
    "        step_by_step = True\n",
    "    else:\n",
    "        step_by_step = False\n",
    "    MODEL = modelzoo.HAN_Integrated(NET_PARAM, device, step_by_step).to(device)\n",
    "elif 'trill' in args.modelCode:\n",
    "    MODEL = modelzoo.TrillRNN(NET_PARAM, device).to(device)\n",
    "else:\n",
    "    print('Error: Unclassified model code')\n",
    "    # Model = modelzoo.HAN_VAE(NET_PARAM, device, False).to(device)"
   ]
  }
 ],
 "metadata": {
  "kernelspec": {
   "display_name": "Python 3",
   "language": "python",
   "name": "python3"
  },
  "language_info": {
   "codemirror_mode": {
    "name": "ipython",
    "version": 3
   },
   "file_extension": ".py",
   "mimetype": "text/x-python",
   "name": "python",
   "nbconvert_exporter": "python",
   "pygments_lexer": "ipython3",
   "version": "3.6.9"
  }
 },
 "nbformat": 4,
 "nbformat_minor": 4
}
